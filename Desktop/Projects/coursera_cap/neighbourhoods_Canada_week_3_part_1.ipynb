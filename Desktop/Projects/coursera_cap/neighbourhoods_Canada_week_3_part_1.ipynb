{
 "cells": [
  {
   "cell_type": "code",
   "execution_count": 35,
   "metadata": {},
   "outputs": [],
   "source": [
    "import requests\n",
    "from bs4 import BeautifulSoup\n",
    "URL = \"https://en.wikipedia.org/wiki/List_of_postal_codes_of_Canada:_M\"\n",
    "req = requests.get(URL) \n",
    "soup = BeautifulSoup(req.content, 'html5lib')   "
   ]
  },
  {
   "cell_type": "markdown",
   "metadata": {},
   "source": [
    "use request package to initialize a GET request from the given site \n",
    "then use BeautifulSoup4 traverse/parse through the html result which we got from using the request "
   ]
  },
  {
   "cell_type": "code",
   "execution_count": 36,
   "metadata": {},
   "outputs": [],
   "source": [
    "table = soup.find('tbody')\n",
    "#print(table.prettify())"
   ]
  },
  {
   "cell_type": "markdown",
   "metadata": {},
   "source": [
    "use BeautifulSoup to find the tag you want to extract the data from \n",
    "Then filter the necessary tags and store it in a list of dictionarys "
   ]
  },
  {
   "cell_type": "code",
   "execution_count": 37,
   "metadata": {},
   "outputs": [
    {
     "name": "stdout",
     "output_type": "stream",
     "text": [
      "[{'Postal_Code': 'M1A\\n', 'Borough': 'Not assigned\\n', 'Neighborhood': '\\n'}, {'Postal_Code': 'M2A\\n', 'Borough': 'Not assigned\\n', 'Neighborhood': '\\n'}, {'Postal_Code': 'M3A\\n', 'Borough': 'North York\\n', 'Neighborhood': 'Parkwoods\\n'}, {'Postal_Code': 'M4A\\n', 'Borough': 'North York\\n', 'Neighborhood': 'Victoria Village\\n'}, {'Postal_Code': 'M5A\\n', 'Borough': 'Downtown Toronto\\n', 'Neighborhood': 'Regent Park, Harbourfront\\n'}, {'Postal_Code': 'M6A\\n', 'Borough': 'North York\\n', 'Neighborhood': 'Lawrence Manor, Lawrence Heights\\n'}, {'Postal_Code': 'M7A\\n', 'Borough': 'Downtown Toronto\\n', 'Neighborhood': \"Queen's Park, Ontario Provincial Government\\n\"}, {'Postal_Code': 'M8A\\n', 'Borough': 'Not assigned\\n', 'Neighborhood': '\\n'}, {'Postal_Code': 'M9A\\n', 'Borough': 'Etobicoke\\n', 'Neighborhood': 'Islington Avenue, Humber Valley Village\\n'}, {'Postal_Code': 'M1B\\n', 'Borough': 'Scarborough\\n', 'Neighborhood': 'Malvern, Rouge\\n'}, {'Postal_Code': 'M2B\\n', 'Borough': 'Not assigned\\n', 'Neighborhood': '\\n'}, {'Postal_Code': 'M3B\\n', 'Borough': 'North York\\n', 'Neighborhood': 'Don Mills\\n'}, {'Postal_Code': 'M4B\\n', 'Borough': 'East York\\n', 'Neighborhood': 'Parkview Hill, Woodbine Gardens\\n'}, {'Postal_Code': 'M5B\\n', 'Borough': 'Downtown Toronto\\n', 'Neighborhood': 'Garden District, Ryerson\\n'}, {'Postal_Code': 'M6B\\n', 'Borough': 'North York\\n', 'Neighborhood': 'Glencairn\\n'}, {'Postal_Code': 'M7B\\n', 'Borough': 'Not assigned\\n', 'Neighborhood': '\\n'}, {'Postal_Code': 'M8B\\n', 'Borough': 'Not assigned\\n', 'Neighborhood': '\\n'}, {'Postal_Code': 'M9B\\n', 'Borough': 'Etobicoke\\n', 'Neighborhood': 'West Deane Park, Princess Gardens, Martin Grove, Islington, Cloverdale\\n'}, {'Postal_Code': 'M1C\\n', 'Borough': 'Scarborough\\n', 'Neighborhood': 'Rouge Hill, Port Union, Highland Creek\\n'}, {'Postal_Code': 'M2C\\n', 'Borough': 'Not assigned\\n', 'Neighborhood': '\\n'}, {'Postal_Code': 'M3C\\n', 'Borough': 'North York\\n', 'Neighborhood': 'Don Mills\\n'}, {'Postal_Code': 'M4C\\n', 'Borough': 'East York\\n', 'Neighborhood': 'Woodbine Heights\\n'}, {'Postal_Code': 'M5C\\n', 'Borough': 'Downtown Toronto\\n', 'Neighborhood': 'St. James Town\\n'}, {'Postal_Code': 'M6C\\n', 'Borough': 'York\\n', 'Neighborhood': 'Humewood-Cedarvale\\n'}, {'Postal_Code': 'M7C\\n', 'Borough': 'Not assigned\\n', 'Neighborhood': '\\n'}, {'Postal_Code': 'M8C\\n', 'Borough': 'Not assigned\\n', 'Neighborhood': '\\n'}, {'Postal_Code': 'M9C\\n', 'Borough': 'Etobicoke\\n', 'Neighborhood': 'Eringate, Bloordale Gardens, Old Burnhamthorpe, Markland Wood\\n'}, {'Postal_Code': 'M1E\\n', 'Borough': 'Scarborough\\n', 'Neighborhood': 'Guildwood, Morningside, West Hill\\n'}, {'Postal_Code': 'M2E\\n', 'Borough': 'Not assigned\\n', 'Neighborhood': '\\n'}, {'Postal_Code': 'M3E\\n', 'Borough': 'Not assigned\\n', 'Neighborhood': '\\n'}, {'Postal_Code': 'M4E\\n', 'Borough': 'East Toronto\\n', 'Neighborhood': 'The Beaches\\n'}, {'Postal_Code': 'M5E\\n', 'Borough': 'Downtown Toronto\\n', 'Neighborhood': 'Berczy Park\\n'}, {'Postal_Code': 'M6E\\n', 'Borough': 'York\\n', 'Neighborhood': 'Caledonia-Fairbanks\\n'}, {'Postal_Code': 'M7E\\n', 'Borough': 'Not assigned\\n', 'Neighborhood': '\\n'}, {'Postal_Code': 'M8E\\n', 'Borough': 'Not assigned\\n', 'Neighborhood': '\\n'}, {'Postal_Code': 'M9E\\n', 'Borough': 'Not assigned\\n', 'Neighborhood': '\\n'}, {'Postal_Code': 'M1G\\n', 'Borough': 'Scarborough\\n', 'Neighborhood': 'Woburn\\n'}, {'Postal_Code': 'M2G\\n', 'Borough': 'Not assigned\\n', 'Neighborhood': '\\n'}, {'Postal_Code': 'M3G\\n', 'Borough': 'Not assigned\\n', 'Neighborhood': '\\n'}, {'Postal_Code': 'M4G\\n', 'Borough': 'East York\\n', 'Neighborhood': 'Leaside\\n'}, {'Postal_Code': 'M5G\\n', 'Borough': 'Downtown Toronto\\n', 'Neighborhood': 'Central Bay Street\\n'}, {'Postal_Code': 'M6G\\n', 'Borough': 'Downtown Toronto\\n', 'Neighborhood': 'Christie\\n'}, {'Postal_Code': 'M7G\\n', 'Borough': 'Not assigned\\n', 'Neighborhood': '\\n'}, {'Postal_Code': 'M8G\\n', 'Borough': 'Not assigned\\n', 'Neighborhood': '\\n'}, {'Postal_Code': 'M9G\\n', 'Borough': 'Not assigned\\n', 'Neighborhood': '\\n'}, {'Postal_Code': 'M1H\\n', 'Borough': 'Scarborough\\n', 'Neighborhood': 'Cedarbrae\\n'}, {'Postal_Code': 'M2H\\n', 'Borough': 'North York\\n', 'Neighborhood': 'Hillcrest Village\\n'}, {'Postal_Code': 'M3H\\n', 'Borough': 'North York\\n', 'Neighborhood': 'Bathurst Manor, Wilson Heights, Downsview North\\n'}, {'Postal_Code': 'M4H\\n', 'Borough': 'East York\\n', 'Neighborhood': 'Thorncliffe Park\\n'}, {'Postal_Code': 'M5H\\n', 'Borough': 'Downtown Toronto\\n', 'Neighborhood': 'Richmond, Adelaide, King\\n'}, {'Postal_Code': 'M6H\\n', 'Borough': 'West Toronto\\n', 'Neighborhood': 'Dufferin, Dovercourt Village\\n'}, {'Postal_Code': 'M7H\\n', 'Borough': 'Not assigned\\n', 'Neighborhood': '\\n'}, {'Postal_Code': 'M8H\\n', 'Borough': 'Not assigned\\n', 'Neighborhood': '\\n'}, {'Postal_Code': 'M9H\\n', 'Borough': 'Not assigned\\n', 'Neighborhood': '\\n'}, {'Postal_Code': 'M1J\\n', 'Borough': 'Scarborough\\n', 'Neighborhood': 'Scarborough Village\\n'}, {'Postal_Code': 'M2J\\n', 'Borough': 'North York\\n', 'Neighborhood': 'Fairview, Henry Farm, Oriole\\n'}, {'Postal_Code': 'M3J\\n', 'Borough': 'North York\\n', 'Neighborhood': 'Northwood Park, York University\\n'}, {'Postal_Code': 'M4J\\n', 'Borough': 'East York\\n', 'Neighborhood': 'East Toronto, Broadview North (Old East York)\\n'}, {'Postal_Code': 'M5J\\n', 'Borough': 'Downtown Toronto\\n', 'Neighborhood': 'Harbourfront East, Union Station, Toronto Islands\\n'}, {'Postal_Code': 'M6J\\n', 'Borough': 'West Toronto\\n', 'Neighborhood': 'Little Portugal, Trinity\\n'}, {'Postal_Code': 'M7J\\n', 'Borough': 'Not assigned\\n', 'Neighborhood': '\\n'}, {'Postal_Code': 'M8J\\n', 'Borough': 'Not assigned\\n', 'Neighborhood': '\\n'}, {'Postal_Code': 'M9J\\n', 'Borough': 'Not assigned\\n', 'Neighborhood': '\\n'}, {'Postal_Code': 'M1K\\n', 'Borough': 'Scarborough\\n', 'Neighborhood': 'Kennedy Park, Ionview, East Birchmount Park\\n'}, {'Postal_Code': 'M2K\\n', 'Borough': 'North York\\n', 'Neighborhood': 'Bayview Village\\n'}, {'Postal_Code': 'M3K\\n', 'Borough': 'North York\\n', 'Neighborhood': 'Downsview\\n'}, {'Postal_Code': 'M4K\\n', 'Borough': 'East Toronto\\n', 'Neighborhood': 'The Danforth West, Riverdale\\n'}, {'Postal_Code': 'M5K\\n', 'Borough': 'Downtown Toronto\\n', 'Neighborhood': 'Toronto Dominion Centre, Design Exchange\\n'}, {'Postal_Code': 'M6K\\n', 'Borough': 'West Toronto\\n', 'Neighborhood': 'Brockton, Parkdale Village, Exhibition Place\\n'}, {'Postal_Code': 'M7K\\n', 'Borough': 'Not assigned\\n', 'Neighborhood': '\\n'}, {'Postal_Code': 'M8K\\n', 'Borough': 'Not assigned\\n', 'Neighborhood': '\\n'}, {'Postal_Code': 'M9K\\n', 'Borough': 'Not assigned\\n', 'Neighborhood': '\\n'}, {'Postal_Code': 'M1L\\n', 'Borough': 'Scarborough\\n', 'Neighborhood': 'Golden Mile, Clairlea, Oakridge\\n'}, {'Postal_Code': 'M2L\\n', 'Borough': 'North York\\n', 'Neighborhood': 'York Mills, Silver Hills\\n'}, {'Postal_Code': 'M3L\\n', 'Borough': 'North York\\n', 'Neighborhood': 'Downsview\\n'}, {'Postal_Code': 'M4L\\n', 'Borough': 'East Toronto\\n', 'Neighborhood': 'India Bazaar, The Beaches West\\n'}, {'Postal_Code': 'M5L\\n', 'Borough': 'Downtown Toronto\\n', 'Neighborhood': 'Commerce Court, Victoria Hotel\\n'}, {'Postal_Code': 'M6L\\n', 'Borough': 'North York\\n', 'Neighborhood': 'North Park, Maple Leaf Park, Upwood Park\\n'}, {'Postal_Code': 'M7L\\n', 'Borough': 'Not assigned\\n', 'Neighborhood': '\\n'}, {'Postal_Code': 'M8L\\n', 'Borough': 'Not assigned\\n', 'Neighborhood': '\\n'}, {'Postal_Code': 'M9L\\n', 'Borough': 'North York\\n', 'Neighborhood': 'Humber Summit\\n'}, {'Postal_Code': 'M1M\\n', 'Borough': 'Scarborough\\n', 'Neighborhood': 'Cliffside, Cliffcrest, Scarborough Village West\\n'}, {'Postal_Code': 'M2M\\n', 'Borough': 'North York\\n', 'Neighborhood': 'Willowdale, Newtonbrook\\n'}, {'Postal_Code': 'M3M\\n', 'Borough': 'North York\\n', 'Neighborhood': 'Downsview\\n'}, {'Postal_Code': 'M4M\\n', 'Borough': 'East Toronto\\n', 'Neighborhood': 'Studio District\\n'}, {'Postal_Code': 'M5M\\n', 'Borough': 'North York\\n', 'Neighborhood': 'Bedford Park, Lawrence Manor East\\n'}, {'Postal_Code': 'M6M\\n', 'Borough': 'York\\n', 'Neighborhood': 'Del Ray, Mount Dennis, Keelsdale and Silverthorn\\n'}, {'Postal_Code': 'M7M\\n', 'Borough': 'Not assigned\\n', 'Neighborhood': '\\n'}, {'Postal_Code': 'M8M\\n', 'Borough': 'Not assigned\\n', 'Neighborhood': '\\n'}, {'Postal_Code': 'M9M\\n', 'Borough': 'North York\\n', 'Neighborhood': 'Humberlea, Emery\\n'}, {'Postal_Code': 'M1N\\n', 'Borough': 'Scarborough\\n', 'Neighborhood': 'Birch Cliff, Cliffside West\\n'}, {'Postal_Code': 'M2N\\n', 'Borough': 'North York\\n', 'Neighborhood': 'Willowdale, Willowdale East\\n'}, {'Postal_Code': 'M3N\\n', 'Borough': 'North York\\n', 'Neighborhood': 'Downsview\\n'}, {'Postal_Code': 'M4N\\n', 'Borough': 'Central Toronto\\n', 'Neighborhood': 'Lawrence Park\\n'}, {'Postal_Code': 'M5N\\n', 'Borough': 'Central Toronto\\n', 'Neighborhood': 'Roselawn\\n'}, {'Postal_Code': 'M6N\\n', 'Borough': 'York\\n', 'Neighborhood': 'Runnymede, The Junction North\\n'}, {'Postal_Code': 'M7N\\n', 'Borough': 'Not assigned\\n', 'Neighborhood': '\\n'}, {'Postal_Code': 'M8N\\n', 'Borough': 'Not assigned\\n', 'Neighborhood': '\\n'}, {'Postal_Code': 'M9N\\n', 'Borough': 'York\\n', 'Neighborhood': 'Weston\\n'}, {'Postal_Code': 'M1P\\n', 'Borough': 'Scarborough\\n', 'Neighborhood': 'Dorset Park, Wexford Heights, Scarborough Town Centre\\n'}, {'Postal_Code': 'M2P\\n', 'Borough': 'North York\\n', 'Neighborhood': 'York Mills West\\n'}, {'Postal_Code': 'M3P\\n', 'Borough': 'Not assigned\\n', 'Neighborhood': '\\n'}, {'Postal_Code': 'M4P\\n', 'Borough': 'Central Toronto\\n', 'Neighborhood': 'Davisville North\\n'}, {'Postal_Code': 'M5P\\n', 'Borough': 'Central Toronto\\n', 'Neighborhood': 'Forest Hill North & West, Forest Hill Road Park\\n'}, {'Postal_Code': 'M6P\\n', 'Borough': 'West Toronto\\n', 'Neighborhood': 'High Park, The Junction South\\n'}, {'Postal_Code': 'M7P\\n', 'Borough': 'Not assigned\\n', 'Neighborhood': '\\n'}, {'Postal_Code': 'M8P\\n', 'Borough': 'Not assigned\\n', 'Neighborhood': '\\n'}, {'Postal_Code': 'M9P\\n', 'Borough': 'Etobicoke\\n', 'Neighborhood': 'Westmount\\n'}, {'Postal_Code': 'M1R\\n', 'Borough': 'Scarborough\\n', 'Neighborhood': 'Wexford, Maryvale\\n'}, {'Postal_Code': 'M2R\\n', 'Borough': 'North York\\n', 'Neighborhood': 'Willowdale, Willowdale West\\n'}, {'Postal_Code': 'M3R\\n', 'Borough': 'Not assigned\\n', 'Neighborhood': '\\n'}, {'Postal_Code': 'M4R\\n', 'Borough': 'Central Toronto\\n', 'Neighborhood': 'North Toronto West,  Lawrence Park\\n'}, {'Postal_Code': 'M5R\\n', 'Borough': 'Central Toronto\\n', 'Neighborhood': 'The Annex, North Midtown, Yorkville\\n'}, {'Postal_Code': 'M6R\\n', 'Borough': 'West Toronto\\n', 'Neighborhood': 'Parkdale, Roncesvalles\\n'}, {'Postal_Code': 'M7R\\n', 'Borough': 'Mississauga\\n', 'Neighborhood': 'Canada Post Gateway Processing Centre\\n'}, {'Postal_Code': 'M8R\\n', 'Borough': 'Not assigned\\n', 'Neighborhood': '\\n'}, {'Postal_Code': 'M9R\\n', 'Borough': 'Etobicoke\\n', 'Neighborhood': 'Kingsview Village, St. Phillips, Martin Grove Gardens, Richview Gardens\\n'}, {'Postal_Code': 'M1S\\n', 'Borough': 'Scarborough\\n', 'Neighborhood': 'Agincourt\\n'}, {'Postal_Code': 'M2S\\n', 'Borough': 'Not assigned\\n', 'Neighborhood': '\\n'}, {'Postal_Code': 'M3S\\n', 'Borough': 'Not assigned\\n', 'Neighborhood': '\\n'}, {'Postal_Code': 'M4S\\n', 'Borough': 'Central Toronto\\n', 'Neighborhood': 'Davisville\\n'}, {'Postal_Code': 'M5S\\n', 'Borough': 'Downtown Toronto\\n', 'Neighborhood': 'University of Toronto, Harbord\\n'}, {'Postal_Code': 'M6S\\n', 'Borough': 'West Toronto\\n', 'Neighborhood': 'Runnymede, Swansea\\n'}, {'Postal_Code': 'M7S\\n', 'Borough': 'Not assigned\\n', 'Neighborhood': '\\n'}, {'Postal_Code': 'M8S\\n', 'Borough': 'Not assigned\\n', 'Neighborhood': '\\n'}, {'Postal_Code': 'M9S\\n', 'Borough': 'Not assigned\\n', 'Neighborhood': '\\n'}, {'Postal_Code': 'M1T\\n', 'Borough': 'Scarborough\\n', 'Neighborhood': \"Clarks Corners, Tam O'Shanter, Sullivan\\n\"}, {'Postal_Code': 'M2T\\n', 'Borough': 'Not assigned\\n', 'Neighborhood': '\\n'}, {'Postal_Code': 'M3T\\n', 'Borough': 'Not assigned\\n', 'Neighborhood': '\\n'}, {'Postal_Code': 'M4T\\n', 'Borough': 'Central Toronto\\n', 'Neighborhood': 'Moore Park, Summerhill East\\n'}, {'Postal_Code': 'M5T\\n', 'Borough': 'Downtown Toronto\\n', 'Neighborhood': 'Kensington Market, Chinatown, Grange Park\\n'}, {'Postal_Code': 'M6T\\n', 'Borough': 'Not assigned\\n', 'Neighborhood': '\\n'}, {'Postal_Code': 'M7T\\n', 'Borough': 'Not assigned\\n', 'Neighborhood': '\\n'}, {'Postal_Code': 'M8T\\n', 'Borough': 'Not assigned\\n', 'Neighborhood': '\\n'}, {'Postal_Code': 'M9T\\n', 'Borough': 'Not assigned\\n', 'Neighborhood': '\\n'}, {'Postal_Code': 'M1V\\n', 'Borough': 'Scarborough\\n', 'Neighborhood': \"Milliken, Agincourt North, Steeles East, L'Amoreaux East\\n\"}, {'Postal_Code': 'M2V\\n', 'Borough': 'Not assigned\\n', 'Neighborhood': '\\n'}, {'Postal_Code': 'M3V\\n', 'Borough': 'Not assigned\\n', 'Neighborhood': '\\n'}, {'Postal_Code': 'M4V\\n', 'Borough': 'Central Toronto\\n', 'Neighborhood': 'Summerhill West, Rathnelly, South Hill, Forest Hill SE, Deer Park\\n'}, {'Postal_Code': 'M5V\\n', 'Borough': 'Downtown Toronto\\n', 'Neighborhood': 'CN Tower, King and Spadina, Railway Lands, Harbourfront West, Bathurst Quay, South Niagara, Island airport\\n'}, {'Postal_Code': 'M6V\\n', 'Borough': 'Not assigned\\n', 'Neighborhood': '\\n'}, {'Postal_Code': 'M7V\\n', 'Borough': 'Not assigned\\n', 'Neighborhood': '\\n'}, {'Postal_Code': 'M8V\\n', 'Borough': 'Etobicoke\\n', 'Neighborhood': 'New Toronto, Mimico South, Humber Bay Shores\\n'}, {'Postal_Code': 'M9V\\n', 'Borough': 'Etobicoke\\n', 'Neighborhood': 'South Steeles, Silverstone, Humbergate, Jamestown, Mount Olive, Beaumond Heights, Thistletown, Albion Gardens\\n'}, {'Postal_Code': 'M1W\\n', 'Borough': 'Scarborough\\n', 'Neighborhood': \"Steeles West, L'Amoreaux West\\n\"}, {'Postal_Code': 'M2W\\n', 'Borough': 'Not assigned\\n', 'Neighborhood': '\\n'}, {'Postal_Code': 'M3W\\n', 'Borough': 'Not assigned\\n', 'Neighborhood': '\\n'}, {'Postal_Code': 'M4W\\n', 'Borough': 'Downtown Toronto\\n', 'Neighborhood': 'Rosedale\\n'}, {'Postal_Code': 'M5W\\n', 'Borough': 'Downtown Toronto\\n', 'Neighborhood': 'Stn A PO Boxes\\n'}, {'Postal_Code': 'M6W\\n', 'Borough': 'Not assigned\\n', 'Neighborhood': '\\n'}, {'Postal_Code': 'M7W\\n', 'Borough': 'Not assigned\\n', 'Neighborhood': '\\n'}, {'Postal_Code': 'M8W\\n', 'Borough': 'Etobicoke\\n', 'Neighborhood': 'Alderwood, Long Branch\\n'}, {'Postal_Code': 'M9W\\n', 'Borough': 'Etobicoke\\n', 'Neighborhood': 'Northwest, West Humber - Clairville\\n'}, {'Postal_Code': 'M1X\\n', 'Borough': 'Scarborough\\n', 'Neighborhood': 'Upper Rouge\\n'}, {'Postal_Code': 'M2X\\n', 'Borough': 'Not assigned\\n', 'Neighborhood': '\\n'}, {'Postal_Code': 'M3X\\n', 'Borough': 'Not assigned\\n', 'Neighborhood': '\\n'}, {'Postal_Code': 'M4X\\n', 'Borough': 'Downtown Toronto\\n', 'Neighborhood': 'St. James Town, Cabbagetown\\n'}, {'Postal_Code': 'M5X\\n', 'Borough': 'Downtown Toronto\\n', 'Neighborhood': 'First Canadian Place, Underground city\\n'}, {'Postal_Code': 'M6X\\n', 'Borough': 'Not assigned\\n', 'Neighborhood': '\\n'}, {'Postal_Code': 'M7X\\n', 'Borough': 'Not assigned\\n', 'Neighborhood': '\\n'}, {'Postal_Code': 'M8X\\n', 'Borough': 'Etobicoke\\n', 'Neighborhood': 'The Kingsway, Montgomery Road, Old Mill North\\n'}, {'Postal_Code': 'M9X\\n', 'Borough': 'Not assigned\\n', 'Neighborhood': '\\n'}, {'Postal_Code': 'M1Y\\n', 'Borough': 'Not assigned\\n', 'Neighborhood': '\\n'}, {'Postal_Code': 'M2Y\\n', 'Borough': 'Not assigned\\n', 'Neighborhood': '\\n'}, {'Postal_Code': 'M3Y\\n', 'Borough': 'Not assigned\\n', 'Neighborhood': '\\n'}, {'Postal_Code': 'M4Y\\n', 'Borough': 'Downtown Toronto\\n', 'Neighborhood': 'Church and Wellesley\\n'}, {'Postal_Code': 'M5Y\\n', 'Borough': 'Not assigned\\n', 'Neighborhood': '\\n'}, {'Postal_Code': 'M6Y\\n', 'Borough': 'Not assigned\\n', 'Neighborhood': '\\n'}, {'Postal_Code': 'M7Y\\n', 'Borough': 'East Toronto\\n', 'Neighborhood': 'Business reply mail Processing Centre, South Central Letter Processing Plant Toronto\\n'}, {'Postal_Code': 'M8Y\\n', 'Borough': 'Etobicoke\\n', 'Neighborhood': \"Old Mill South, King's Mill Park, Sunnylea, Humber Bay, Mimico NE, The Queensway East, Royal York South East, Kingsway Park South East\\n\"}, {'Postal_Code': 'M9Y\\n', 'Borough': 'Not assigned\\n', 'Neighborhood': '\\n'}, {'Postal_Code': 'M1Z\\n', 'Borough': 'Not assigned\\n', 'Neighborhood': '\\n'}, {'Postal_Code': 'M2Z\\n', 'Borough': 'Not assigned\\n', 'Neighborhood': '\\n'}, {'Postal_Code': 'M3Z\\n', 'Borough': 'Not assigned\\n', 'Neighborhood': '\\n'}, {'Postal_Code': 'M4Z\\n', 'Borough': 'Not assigned\\n', 'Neighborhood': '\\n'}, {'Postal_Code': 'M5Z\\n', 'Borough': 'Not assigned\\n', 'Neighborhood': '\\n'}, {'Postal_Code': 'M6Z\\n', 'Borough': 'Not assigned\\n', 'Neighborhood': '\\n'}, {'Postal_Code': 'M7Z\\n', 'Borough': 'Not assigned\\n', 'Neighborhood': '\\n'}, {'Postal_Code': 'M8Z\\n', 'Borough': 'Etobicoke\\n', 'Neighborhood': 'Mimico NW, The Queensway West, South of Bloor, Kingsway Park South West, Royal York South West\\n'}, {'Postal_Code': 'M9Z\\n', 'Borough': 'Not assigned\\n', 'Neighborhood': '\\n'}]\n"
     ]
    }
   ],
   "source": [
    "li_ad=[]\n",
    "for row in table.find_all('tr'): \n",
    "    neigh = {}\n",
    "    cell = row.find_all('td')\n",
    "    if cell:\n",
    "        neigh['Postal_Code']=cell[0].get_text()\n",
    "        neigh['Borough']=cell[1].get_text()\n",
    "        neigh['Neighborhood']=cell[2].get_text()\n",
    "        li_ad.append(neigh)\n",
    "print(li_ad)"
   ]
  },
  {
   "cell_type": "code",
   "execution_count": 38,
   "metadata": {},
   "outputs": [],
   "source": [
    "import pandas as pd\n",
    "import numpy as np\n",
    "neighbours = pd.DataFrame(li_ad)"
   ]
  },
  {
   "cell_type": "code",
   "execution_count": 39,
   "metadata": {},
   "outputs": [
    {
     "data": {
      "text/html": [
       "<div>\n",
       "<style scoped>\n",
       "    .dataframe tbody tr th:only-of-type {\n",
       "        vertical-align: middle;\n",
       "    }\n",
       "\n",
       "    .dataframe tbody tr th {\n",
       "        vertical-align: top;\n",
       "    }\n",
       "\n",
       "    .dataframe thead th {\n",
       "        text-align: right;\n",
       "    }\n",
       "</style>\n",
       "<table border=\"1\" class=\"dataframe\">\n",
       "  <thead>\n",
       "    <tr style=\"text-align: right;\">\n",
       "      <th></th>\n",
       "      <th>Postal_Code</th>\n",
       "      <th>Borough</th>\n",
       "      <th>Neighborhood</th>\n",
       "    </tr>\n",
       "  </thead>\n",
       "  <tbody>\n",
       "    <tr>\n",
       "      <th>0</th>\n",
       "      <td>M1A</td>\n",
       "      <td>Not assigned</td>\n",
       "      <td></td>\n",
       "    </tr>\n",
       "    <tr>\n",
       "      <th>1</th>\n",
       "      <td>M2A</td>\n",
       "      <td>Not assigned</td>\n",
       "      <td></td>\n",
       "    </tr>\n",
       "    <tr>\n",
       "      <th>2</th>\n",
       "      <td>M3A</td>\n",
       "      <td>North York</td>\n",
       "      <td>Parkwoods</td>\n",
       "    </tr>\n",
       "    <tr>\n",
       "      <th>3</th>\n",
       "      <td>M4A</td>\n",
       "      <td>North York</td>\n",
       "      <td>Victoria Village</td>\n",
       "    </tr>\n",
       "    <tr>\n",
       "      <th>4</th>\n",
       "      <td>M5A</td>\n",
       "      <td>Downtown Toronto</td>\n",
       "      <td>Regent Park, Harbourfront</td>\n",
       "    </tr>\n",
       "  </tbody>\n",
       "</table>\n",
       "</div>"
      ],
      "text/plain": [
       "  Postal_Code           Borough               Neighborhood\n",
       "0         M1A      Not assigned                           \n",
       "1         M2A      Not assigned                           \n",
       "2         M3A        North York                  Parkwoods\n",
       "3         M4A        North York           Victoria Village\n",
       "4         M5A  Downtown Toronto  Regent Park, Harbourfront"
      ]
     },
     "execution_count": 39,
     "metadata": {},
     "output_type": "execute_result"
    }
   ],
   "source": [
    "neighbours = neighbours.replace('\\n','', regex=True)\n",
    "neighbours.head()"
   ]
  },
  {
   "cell_type": "code",
   "execution_count": 40,
   "metadata": {},
   "outputs": [
    {
     "name": "stdout",
     "output_type": "stream",
     "text": [
      "(103, 3)\n"
     ]
    },
    {
     "data": {
      "text/html": [
       "<div>\n",
       "<style scoped>\n",
       "    .dataframe tbody tr th:only-of-type {\n",
       "        vertical-align: middle;\n",
       "    }\n",
       "\n",
       "    .dataframe tbody tr th {\n",
       "        vertical-align: top;\n",
       "    }\n",
       "\n",
       "    .dataframe thead th {\n",
       "        text-align: right;\n",
       "    }\n",
       "</style>\n",
       "<table border=\"1\" class=\"dataframe\">\n",
       "  <thead>\n",
       "    <tr style=\"text-align: right;\">\n",
       "      <th></th>\n",
       "      <th>Postal_Code</th>\n",
       "      <th>Borough</th>\n",
       "      <th>Neighborhood</th>\n",
       "    </tr>\n",
       "  </thead>\n",
       "  <tbody>\n",
       "    <tr>\n",
       "      <th>2</th>\n",
       "      <td>M3A</td>\n",
       "      <td>North York</td>\n",
       "      <td>Parkwoods</td>\n",
       "    </tr>\n",
       "    <tr>\n",
       "      <th>3</th>\n",
       "      <td>M4A</td>\n",
       "      <td>North York</td>\n",
       "      <td>Victoria Village</td>\n",
       "    </tr>\n",
       "    <tr>\n",
       "      <th>4</th>\n",
       "      <td>M5A</td>\n",
       "      <td>Downtown Toronto</td>\n",
       "      <td>Regent Park, Harbourfront</td>\n",
       "    </tr>\n",
       "    <tr>\n",
       "      <th>5</th>\n",
       "      <td>M6A</td>\n",
       "      <td>North York</td>\n",
       "      <td>Lawrence Manor, Lawrence Heights</td>\n",
       "    </tr>\n",
       "    <tr>\n",
       "      <th>6</th>\n",
       "      <td>M7A</td>\n",
       "      <td>Downtown Toronto</td>\n",
       "      <td>Queen's Park, Ontario Provincial Government</td>\n",
       "    </tr>\n",
       "    <tr>\n",
       "      <th>8</th>\n",
       "      <td>M9A</td>\n",
       "      <td>Etobicoke</td>\n",
       "      <td>Islington Avenue, Humber Valley Village</td>\n",
       "    </tr>\n",
       "    <tr>\n",
       "      <th>9</th>\n",
       "      <td>M1B</td>\n",
       "      <td>Scarborough</td>\n",
       "      <td>Malvern, Rouge</td>\n",
       "    </tr>\n",
       "    <tr>\n",
       "      <th>11</th>\n",
       "      <td>M3B</td>\n",
       "      <td>North York</td>\n",
       "      <td>Don Mills</td>\n",
       "    </tr>\n",
       "    <tr>\n",
       "      <th>12</th>\n",
       "      <td>M4B</td>\n",
       "      <td>East York</td>\n",
       "      <td>Parkview Hill, Woodbine Gardens</td>\n",
       "    </tr>\n",
       "    <tr>\n",
       "      <th>13</th>\n",
       "      <td>M5B</td>\n",
       "      <td>Downtown Toronto</td>\n",
       "      <td>Garden District, Ryerson</td>\n",
       "    </tr>\n",
       "  </tbody>\n",
       "</table>\n",
       "</div>"
      ],
      "text/plain": [
       "   Postal_Code           Borough                                 Neighborhood\n",
       "2          M3A        North York                                    Parkwoods\n",
       "3          M4A        North York                             Victoria Village\n",
       "4          M5A  Downtown Toronto                    Regent Park, Harbourfront\n",
       "5          M6A        North York             Lawrence Manor, Lawrence Heights\n",
       "6          M7A  Downtown Toronto  Queen's Park, Ontario Provincial Government\n",
       "8          M9A         Etobicoke      Islington Avenue, Humber Valley Village\n",
       "9          M1B       Scarborough                               Malvern, Rouge\n",
       "11         M3B        North York                                    Don Mills\n",
       "12         M4B         East York              Parkview Hill, Woodbine Gardens\n",
       "13         M5B  Downtown Toronto                     Garden District, Ryerson"
      ]
     },
     "execution_count": 40,
     "metadata": {},
     "output_type": "execute_result"
    }
   ],
   "source": [
    "neighbours=neighbours[neighbours.Borough != 'Not assigned']\n",
    "print(neighbours.shape)\n",
    "neighbours.head(10)\n"
   ]
  },
  {
   "cell_type": "code",
   "execution_count": null,
   "metadata": {},
   "outputs": [],
   "source": []
  }
 ],
 "metadata": {
  "kernelspec": {
   "display_name": "Python 3",
   "language": "python",
   "name": "python3"
  },
  "language_info": {
   "codemirror_mode": {
    "name": "ipython",
    "version": 3
   },
   "file_extension": ".py",
   "mimetype": "text/x-python",
   "name": "python",
   "nbconvert_exporter": "python",
   "pygments_lexer": "ipython3",
   "version": "3.8.2"
  }
 },
 "nbformat": 4,
 "nbformat_minor": 4
}
